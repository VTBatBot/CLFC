{
 "cells": [
  {
   "cell_type": "code",
   "execution_count": null,
   "metadata": {},
   "outputs": [
    {
     "name": "stdout",
     "output_type": "stream",
     "text": [
      "Serial Parameter\n",
      "Beginning While Loop\n"
     ]
    }
   ],
   "source": [
    "import struct \n",
    "import serial   #first make sure that you have the serial library\n",
    "\n",
    "PORT = 'COM7'  # Set this to whatever port is coming up in your device manager\n",
    "BAUD = 9600    # This needs to be set to whatever the Teensy's baud rate is\n",
    "VERBOSE = 0    # Keep this as 0 or your command prompt will be flooded with debug messages\n",
    "TIMEOUT = 30   # Put this somewhere not too low, not way too high...\n",
    "\n",
    "\n",
    "# Create an OBJECT of the Serial() Class called \"serial_device\".\n",
    "# This object represents a serial connection that can read and write.\n",
    "serial_device = serial.Serial()  \n",
    "serial_device.port = PORT\n",
    "serial_device.baudrate = BAUD\n",
    "serial_device.timeout= TIMEOUT\n",
    "print(\"Serial Parameter\")\n",
    "\n",
    "\n",
    "# Use the open() METHOD of the Serial() OBJECT to initiate the serial connection\n",
    "serial_device.open()\n",
    "data_in = 0\n",
    "print(\"Beginning While Loop\")\n",
    "\n",
    "# Initiate an infinite loop where Python is constantly listening for new bytes of data over the Serial() Object.\n",
    "while True:\n",
    "        \n",
    "    if serial_device.in_waiting > 0:\n",
    "        data_in = serial_device.read(2)   #The argument for the read() method is the number of bytes to read.\n",
    "        data_in = struct.unpack(\"<h\", data_in)[0]\n",
    "        #print(data_in)\n",
    "    # do stuff with your data here\n",
    "        if data_in == 12345:   \n",
    "            data_package = serial_device.read(4*128)  #Information from the arduino code\n",
    "\n",
    "            k=0\n",
    "            m=0\n",
    "            for i in range(0, len(data_package)):\n",
    "                 if mod(i, 2) == 0:\n",
    "                      left_data[k] = data_package[i]\n",
    "                      k = k+1\n",
    "                 else: \n",
    "                      right_data[m] = data_package[i]\n",
    "                      m = m+1\n",
    "                 print(left_data)\n",
    "                 print(right_data)"
   ]
  },
  {
   "cell_type": "code",
   "execution_count": null,
   "metadata": {},
   "outputs": [],
   "source": []
  },
  {
   "cell_type": "code",
   "execution_count": null,
   "metadata": {},
   "outputs": [],
   "source": []
  }
 ],
 "metadata": {
  "kernelspec": {
   "display_name": "Python 3",
   "language": "python",
   "name": "python3"
  },
  "language_info": {
   "codemirror_mode": {
    "name": "ipython",
    "version": 3
   },
   "file_extension": ".py",
   "mimetype": "text/x-python",
   "name": "python",
   "nbconvert_exporter": "python",
   "pygments_lexer": "ipython3",
   "version": "3.8.3"
  }
 },
 "nbformat": 4,
 "nbformat_minor": 4
}
